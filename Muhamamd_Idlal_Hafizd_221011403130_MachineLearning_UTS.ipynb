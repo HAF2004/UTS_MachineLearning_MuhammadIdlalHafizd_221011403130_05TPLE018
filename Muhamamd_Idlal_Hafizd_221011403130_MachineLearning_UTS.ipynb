{
 "cells": [
  {
   "cell_type": "code",
   "execution_count": 19,
   "id": "13b99efd-f8a7-459b-806b-fbf6f908ab14",
   "metadata": {},
   "outputs": [],
   "source": [
    "# Data\n",
    "company_detail_list = [\n",
    "    {'name': 'Company 1', 'domain': 'Retail', 'country': 'United States'},\n",
    "    {'name': 'Company 2', 'domain': 'Technology', 'country': 'United Kingdom'},\n",
    "    {'name': 'Company 3', 'domain': 'Healthcare', 'country': 'United States'}\n",
    "]\n",
    "\n",
    "employee_detail_list = [\n",
    "    {'name': 'EMP-0001', 'first_name': 'John', 'last_name': 'Doe', 'full_name': 'John Doe', 'company': 'Company 1', 'nationality': 'Australia'},\n",
    "    {'name': 'EMP-0002', 'first_name': 'Tom', 'last_name': 'Smith', 'full_name': 'Tom Smith', 'company': 'Company 2', 'nationality': 'United States'},\n",
    "    {'name': 'EMP-0003', 'first_name': 'Andrew', 'last_name': 'Sebastian', 'full_name': 'Andrew Sebastian', 'company': 'Company 3', 'nationality': 'United States'},\n",
    "    {'name': 'EMP-0005', 'first_name': 'Ying Han', 'last_name': 'Tan', 'full_name': 'Ying Han Tan', 'company': 'Company 1', 'nationality': 'Australia'},\n",
    "    {'name': 'EMP-0015', 'first_name': 'Kenneth', 'last_name': 'Ng', 'full_name': 'Kenneth Ng', 'company': 'Company 3', 'nationality': 'United States'},\n",
    "    {'name': 'EMP-0018', 'first_name': 'Rubby', 'last_name': 'Lee', 'full_name': 'Rubby Lee', 'company': 'Company 2', 'nationality': 'Hong Kong'},\n",
    "    {'name': 'EMP-0017', 'first_name': 'Robert', 'last_name': 'White', 'full_name': 'Robert White', 'company': 'Company 1', 'nationality': 'United Kingdom'}\n",
    "]"
   ]
  },
  {
   "cell_type": "code",
   "execution_count": 20,
   "id": "7c20899f-591a-4f72-b1e4-3320cb44b056",
   "metadata": {},
   "outputs": [
    {
     "name": "stdout",
     "output_type": "stream",
     "text": [
      "Task 1 Output:\n",
      "[{'name': 'Company 3'}, {'name': 'Company 2'}, {'name': 'Company 1'}]\n"
     ]
    }
   ],
   "source": [
    "# Task 1\n",
    "def sorted_companies():\n",
    "    return sorted([{'name': c['name']} for c in company_detail_list], key=lambda x: x['name'], reverse=True)\n",
    "\n",
    "print(\"Task 1 Output:\")\n",
    "print(sorted_companies())"
   ]
  },
  {
   "cell_type": "code",
   "execution_count": 21,
   "id": "cc0960eb-0506-4ee0-b381-801726f0c4a2",
   "metadata": {},
   "outputs": [
    {
     "name": "stdout",
     "output_type": "stream",
     "text": [
      "\n",
      "Task 2 Output:\n",
      "Company 1: Retail (United States)\n",
      "Company 2: Technology (United Kingdom)\n",
      "Company 3: Healthcare (United States)\n"
     ]
    }
   ],
   "source": [
    "# Task 2\n",
    "def print_company_domains():\n",
    "    for company in company_detail_list:\n",
    "        print(f\"{company['name']}: {company['domain']} ({company['country']})\")\n",
    "\n",
    "print(\"\\nTask 2 Output:\")\n",
    "print_company_domains()"
   ]
  },
  {
   "cell_type": "code",
   "execution_count": 22,
   "id": "c1c5c6c1-f7c4-42af-811d-676feefc4b57",
   "metadata": {},
   "outputs": [
    {
     "name": "stdout",
     "output_type": "stream",
     "text": [
      "\n",
      "Task 3 Output:\n",
      "{'Retail': ['John Doe', 'Ying Han Tan', 'Robert White'], 'Technology': ['Tom Smith', 'Rubby Lee'], 'Healthcare': ['Andrew Sebastian', 'Kenneth Ng']}\n"
     ]
    }
   ],
   "source": [
    "# Task 3\n",
    "from collections import defaultdict\n",
    "\n",
    "def employees_by_domain():\n",
    "    domain_employees = defaultdict(list)\n",
    "    for employee in employee_detail_list:\n",
    "        company = next(c for c in company_detail_list if c['name'] == employee['company'])\n",
    "        domain_employees[company['domain']].append(employee['full_name'])\n",
    "    return dict(domain_employees)\n",
    "\n",
    "print(\"\\nTask 3 Output:\")\n",
    "print(employees_by_domain())"
   ]
  },
  {
   "cell_type": "code",
   "execution_count": 23,
   "id": "d4668e93-fe2d-4beb-8d14-781f063ad2c0",
   "metadata": {},
   "outputs": [
    {
     "name": "stdout",
     "output_type": "stream",
     "text": [
      "\n",
      "Task 4 Output:\n",
      "[{'full_name': 'John Doe', 'company': 'Company 1', 'country': 'United States'}, {'full_name': 'Tom Smith', 'company': 'Company 2', 'country': 'United Kingdom'}, {'full_name': 'Andrew Sebastian', 'company': 'Company 3', 'country': 'United States'}, {'full_name': 'Ying Han Tan', 'company': 'Company 1', 'country': 'United States'}, {'full_name': 'Kenneth Ng', 'company': 'Company 3', 'country': 'United States'}, {'full_name': 'Rubby Lee', 'company': 'Company 2', 'country': 'United Kingdom'}, {'full_name': 'Robert White', 'company': 'Company 1', 'country': 'United States'}]\n"
     ]
    }
   ],
   "source": [
    "# Task 4\n",
    "def employees_with_company_country():\n",
    "    result = []\n",
    "    for employee in employee_detail_list:\n",
    "        company = next(c for c in company_detail_list if c['name'] == employee['company'])\n",
    "        result.append({\n",
    "            \"full_name\": employee['full_name'],\n",
    "            \"company\": employee['company'],\n",
    "            \"country\": company['country']\n",
    "        })\n",
    "    return result\n",
    "\n",
    "print(\"\\nTask 4 Output:\")\n",
    "print(employees_with_company_country())"
   ]
  },
  {
   "cell_type": "code",
   "execution_count": 24,
   "id": "d0569d68-1103-4956-9bac-21cc705733c6",
   "metadata": {},
   "outputs": [
    {
     "name": "stdout",
     "output_type": "stream",
     "text": [
      "\n",
      "Task 5 Output:\n",
      "[{'company': 'Company 1', 'employee_nationality': {'Australia': 2, 'United Kingdom': 1}}, {'company': 'Company 2', 'employee_nationality': {'United States': 1, 'Hong Kong': 1}}, {'company': 'Company 3', 'employee_nationality': {'United States': 2}}]\n"
     ]
    }
   ],
   "source": [
    "# Task 5\n",
    "def company_employee_nationality_counts():\n",
    "    result = []\n",
    "    for company in company_detail_list:\n",
    "        nationality_count = defaultdict(int)\n",
    "        employees = [e for e in employee_detail_list if e['company'] == company['name']]\n",
    "        for emp in employees:\n",
    "            nationality_count[emp['nationality']] += 1\n",
    "        result.append({\n",
    "            \"company\": company['name'],\n",
    "            \"employee_nationality\": dict(nationality_count)\n",
    "        })\n",
    "    return result\n",
    "\n",
    "print(\"\\nTask 5 Output:\")\n",
    "print(company_employee_nationality_counts())"
   ]
  }
 ],
 "metadata": {
  "kernelspec": {
   "display_name": "Python 3 (ipykernel)",
   "language": "python",
   "name": "python3"
  },
  "language_info": {
   "codemirror_mode": {
    "name": "ipython",
    "version": 3
   },
   "file_extension": ".py",
   "mimetype": "text/x-python",
   "name": "python",
   "nbconvert_exporter": "python",
   "pygments_lexer": "ipython3",
   "version": "3.12.7"
  }
 },
 "nbformat": 4,
 "nbformat_minor": 5
}
